{
  "nbformat": 4,
  "nbformat_minor": 0,
  "metadata": {
    "colab": {
      "name": "Untitled2.ipynb",
      "provenance": [],
      "collapsed_sections": []
    },
    "kernelspec": {
      "name": "python3",
      "display_name": "Python 3"
    }
  },
  "cells": [
    {
      "cell_type": "code",
      "metadata": {
        "id": "sWTMeIboBO5h",
        "colab_type": "code",
        "colab": {
          "base_uri": "https://localhost:8080/",
          "height": 523
        },
        "outputId": "a8bf41a8-b6bf-492c-d471-03128830a88e"
      },
      "source": [
        "import numpy as np \n",
        "import pandas as pd \n",
        "import os\n",
        "import glob\n",
        "import csv\n",
        "import matplotlib.pyplot as plt\n",
        "import shutil\n",
        "from sklearn.model_selection import StratifiedKFold\n",
        "from sklearn.preprocessing import StandardScaler\n",
        "from sklearn.impute import SimpleImputer\n",
        "from sklearn import decomposition\n",
        "from sklearn.pipeline import Pipeline\n",
        "\n",
        "import math\n",
        "from IPython.display import display\n",
        "import datetime\n",
        "\n",
        "from keras.wrappers.scikit_learn import KerasClassifier\n",
        "from keras.models import Sequential,Model\n",
        "from sklearn.model_selection import GridSearchCV\n",
        "from keras.callbacks import EarlyStopping, ModelCheckpoint\n",
        "from keras.layers import Activation, Dense, Input, Dropout, GaussianDropout, BatchNormalization\n",
        "from keras.optimizers import Adam, RMSprop, sgd\n",
        "\n",
        "np.random.seed(seed=1234)\n",
        "\n",
        "\n",
        "seed=1234\n",
        "INPUT_SIZE = 331 \n",
        "nb_classes = 35 # numero di classi \n",
        "rows = 2205 # numero di elementi del dataset\n",
        "bs = 64 #BATCH_SIZE\n",
        "nb_epoch = 5 # numero di epoche\n",
        "username = \"valentinoperrone\"\n",
        "key = \"3babecd7852ce0ee5067bf5683349de8\""
      ],
      "execution_count": 1,
      "outputs": [
        {
          "output_type": "stream",
          "text": [
            "Using TensorFlow backend.\n",
            "/usr/local/lib/python3.6/dist-packages/tensorflow/python/framework/dtypes.py:516: FutureWarning: Passing (type, 1) or '1type' as a synonym of type is deprecated; in a future version of numpy, it will be understood as (type, (1,)) / '(1,)type'.\n",
            "  _np_qint8 = np.dtype([(\"qint8\", np.int8, 1)])\n",
            "/usr/local/lib/python3.6/dist-packages/tensorflow/python/framework/dtypes.py:517: FutureWarning: Passing (type, 1) or '1type' as a synonym of type is deprecated; in a future version of numpy, it will be understood as (type, (1,)) / '(1,)type'.\n",
            "  _np_quint8 = np.dtype([(\"quint8\", np.uint8, 1)])\n",
            "/usr/local/lib/python3.6/dist-packages/tensorflow/python/framework/dtypes.py:518: FutureWarning: Passing (type, 1) or '1type' as a synonym of type is deprecated; in a future version of numpy, it will be understood as (type, (1,)) / '(1,)type'.\n",
            "  _np_qint16 = np.dtype([(\"qint16\", np.int16, 1)])\n",
            "/usr/local/lib/python3.6/dist-packages/tensorflow/python/framework/dtypes.py:519: FutureWarning: Passing (type, 1) or '1type' as a synonym of type is deprecated; in a future version of numpy, it will be understood as (type, (1,)) / '(1,)type'.\n",
            "  _np_quint16 = np.dtype([(\"quint16\", np.uint16, 1)])\n",
            "/usr/local/lib/python3.6/dist-packages/tensorflow/python/framework/dtypes.py:520: FutureWarning: Passing (type, 1) or '1type' as a synonym of type is deprecated; in a future version of numpy, it will be understood as (type, (1,)) / '(1,)type'.\n",
            "  _np_qint32 = np.dtype([(\"qint32\", np.int32, 1)])\n",
            "/usr/local/lib/python3.6/dist-packages/tensorflow/python/framework/dtypes.py:525: FutureWarning: Passing (type, 1) or '1type' as a synonym of type is deprecated; in a future version of numpy, it will be understood as (type, (1,)) / '(1,)type'.\n",
            "  np_resource = np.dtype([(\"resource\", np.ubyte, 1)])\n",
            "/usr/local/lib/python3.6/dist-packages/tensorboard/compat/tensorflow_stub/dtypes.py:541: FutureWarning: Passing (type, 1) or '1type' as a synonym of type is deprecated; in a future version of numpy, it will be understood as (type, (1,)) / '(1,)type'.\n",
            "  _np_qint8 = np.dtype([(\"qint8\", np.int8, 1)])\n",
            "/usr/local/lib/python3.6/dist-packages/tensorboard/compat/tensorflow_stub/dtypes.py:542: FutureWarning: Passing (type, 1) or '1type' as a synonym of type is deprecated; in a future version of numpy, it will be understood as (type, (1,)) / '(1,)type'.\n",
            "  _np_quint8 = np.dtype([(\"quint8\", np.uint8, 1)])\n",
            "/usr/local/lib/python3.6/dist-packages/tensorboard/compat/tensorflow_stub/dtypes.py:543: FutureWarning: Passing (type, 1) or '1type' as a synonym of type is deprecated; in a future version of numpy, it will be understood as (type, (1,)) / '(1,)type'.\n",
            "  _np_qint16 = np.dtype([(\"qint16\", np.int16, 1)])\n",
            "/usr/local/lib/python3.6/dist-packages/tensorboard/compat/tensorflow_stub/dtypes.py:544: FutureWarning: Passing (type, 1) or '1type' as a synonym of type is deprecated; in a future version of numpy, it will be understood as (type, (1,)) / '(1,)type'.\n",
            "  _np_quint16 = np.dtype([(\"quint16\", np.uint16, 1)])\n",
            "/usr/local/lib/python3.6/dist-packages/tensorboard/compat/tensorflow_stub/dtypes.py:545: FutureWarning: Passing (type, 1) or '1type' as a synonym of type is deprecated; in a future version of numpy, it will be understood as (type, (1,)) / '(1,)type'.\n",
            "  _np_qint32 = np.dtype([(\"qint32\", np.int32, 1)])\n",
            "/usr/local/lib/python3.6/dist-packages/tensorboard/compat/tensorflow_stub/dtypes.py:550: FutureWarning: Passing (type, 1) or '1type' as a synonym of type is deprecated; in a future version of numpy, it will be understood as (type, (1,)) / '(1,)type'.\n",
            "  np_resource = np.dtype([(\"resource\", np.ubyte, 1)])\n"
          ],
          "name": "stderr"
        },
        {
          "output_type": "display_data",
          "data": {
            "text/html": [
              "<p style=\"color: red;\">\n",
              "The default version of TensorFlow in Colab will switch to TensorFlow 2.x on the 27th of March, 2020.<br>\n",
              "We recommend you <a href=\"https://www.tensorflow.org/guide/migrate\" target=\"_blank\">upgrade</a> now\n",
              "or ensure your notebook will continue to use TensorFlow 1.x via the <code>%tensorflow_version 1.x</code> magic:\n",
              "<a href=\"https://colab.research.google.com/notebooks/tensorflow_version.ipynb\" target=\"_blank\">more info</a>.</p>\n"
            ],
            "text/plain": [
              "<IPython.core.display.HTML object>"
            ]
          },
          "metadata": {
            "tags": []
          }
        }
      ]
    },
    {
      "cell_type": "code",
      "metadata": {
        "id": "W5cSITb2GFxx",
        "colab_type": "code",
        "outputId": "e7ae6649-744c-44c5-a5be-0a51d3570141",
        "colab": {
          "base_uri": "https://localhost:8080/",
          "height": 776
        }
      },
      "source": [
        "!pip install tensorflow==1.14.0\n"
      ],
      "execution_count": 14,
      "outputs": [
        {
          "output_type": "stream",
          "text": [
            "Collecting tensorflow==1.14.0\n",
            "\u001b[?25l  Downloading https://files.pythonhosted.org/packages/de/f0/96fb2e0412ae9692dbf400e5b04432885f677ad6241c088ccc5fe7724d69/tensorflow-1.14.0-cp36-cp36m-manylinux1_x86_64.whl (109.2MB)\n",
            "\u001b[K     |████████████████████████████████| 109.2MB 48kB/s \n",
            "\u001b[?25hRequirement already satisfied: keras-preprocessing>=1.0.5 in /usr/local/lib/python3.6/dist-packages (from tensorflow==1.14.0) (1.1.0)\n",
            "Collecting tensorflow-estimator<1.15.0rc0,>=1.14.0rc0\n",
            "\u001b[?25l  Downloading https://files.pythonhosted.org/packages/3c/d5/21860a5b11caf0678fbc8319341b0ae21a07156911132e0e71bffed0510d/tensorflow_estimator-1.14.0-py2.py3-none-any.whl (488kB)\n",
            "\u001b[K     |████████████████████████████████| 491kB 43.8MB/s \n",
            "\u001b[?25hRequirement already satisfied: termcolor>=1.1.0 in /usr/local/lib/python3.6/dist-packages (from tensorflow==1.14.0) (1.1.0)\n",
            "Requirement already satisfied: google-pasta>=0.1.6 in /usr/local/lib/python3.6/dist-packages (from tensorflow==1.14.0) (0.2.0)\n",
            "Requirement already satisfied: gast>=0.2.0 in /usr/local/lib/python3.6/dist-packages (from tensorflow==1.14.0) (0.3.3)\n",
            "Requirement already satisfied: grpcio>=1.8.6 in /usr/local/lib/python3.6/dist-packages (from tensorflow==1.14.0) (1.27.2)\n",
            "Requirement already satisfied: six>=1.10.0 in /usr/local/lib/python3.6/dist-packages (from tensorflow==1.14.0) (1.12.0)\n",
            "Requirement already satisfied: protobuf>=3.6.1 in /usr/local/lib/python3.6/dist-packages (from tensorflow==1.14.0) (3.10.0)\n",
            "Requirement already satisfied: absl-py>=0.7.0 in /usr/local/lib/python3.6/dist-packages (from tensorflow==1.14.0) (0.9.0)\n",
            "Requirement already satisfied: numpy<2.0,>=1.14.5 in /usr/local/lib/python3.6/dist-packages (from tensorflow==1.14.0) (1.18.2)\n",
            "Requirement already satisfied: wheel>=0.26 in /usr/local/lib/python3.6/dist-packages (from tensorflow==1.14.0) (0.34.2)\n",
            "Collecting tensorboard<1.15.0,>=1.14.0\n",
            "\u001b[?25l  Downloading https://files.pythonhosted.org/packages/91/2d/2ed263449a078cd9c8a9ba50ebd50123adf1f8cfbea1492f9084169b89d9/tensorboard-1.14.0-py3-none-any.whl (3.1MB)\n",
            "\u001b[K     |████████████████████████████████| 3.2MB 42.8MB/s \n",
            "\u001b[?25hRequirement already satisfied: keras-applications>=1.0.6 in /usr/local/lib/python3.6/dist-packages (from tensorflow==1.14.0) (1.0.8)\n",
            "Requirement already satisfied: astor>=0.6.0 in /usr/local/lib/python3.6/dist-packages (from tensorflow==1.14.0) (0.8.1)\n",
            "Requirement already satisfied: wrapt>=1.11.1 in /usr/local/lib/python3.6/dist-packages (from tensorflow==1.14.0) (1.12.1)\n",
            "Requirement already satisfied: setuptools in /usr/local/lib/python3.6/dist-packages (from protobuf>=3.6.1->tensorflow==1.14.0) (46.0.0)\n",
            "Requirement already satisfied: markdown>=2.6.8 in /usr/local/lib/python3.6/dist-packages (from tensorboard<1.15.0,>=1.14.0->tensorflow==1.14.0) (3.2.1)\n",
            "Requirement already satisfied: werkzeug>=0.11.15 in /usr/local/lib/python3.6/dist-packages (from tensorboard<1.15.0,>=1.14.0->tensorflow==1.14.0) (1.0.0)\n",
            "Requirement already satisfied: h5py in /usr/local/lib/python3.6/dist-packages (from keras-applications>=1.0.6->tensorflow==1.14.0) (2.10.0)\n",
            "Installing collected packages: tensorflow-estimator, tensorboard, tensorflow\n",
            "  Found existing installation: tensorflow-estimator 2.2.0rc0\n",
            "    Uninstalling tensorflow-estimator-2.2.0rc0:\n",
            "      Successfully uninstalled tensorflow-estimator-2.2.0rc0\n",
            "  Found existing installation: tensorboard 2.2.0\n",
            "    Uninstalling tensorboard-2.2.0:\n",
            "      Successfully uninstalled tensorboard-2.2.0\n",
            "  Found existing installation: tensorflow 2.2.0rc2\n",
            "    Uninstalling tensorflow-2.2.0rc2:\n",
            "      Successfully uninstalled tensorflow-2.2.0rc2\n",
            "Successfully installed tensorboard-1.14.0 tensorflow-1.14.0 tensorflow-estimator-1.14.0\n"
          ],
          "name": "stdout"
        },
        {
          "output_type": "display_data",
          "data": {
            "application/vnd.colab-display-data+json": {
              "pip_warning": {
                "packages": [
                  "tensorboard",
                  "tensorflow"
                ]
              }
            }
          },
          "metadata": {
            "tags": []
          }
        }
      ]
    },
    {
      "cell_type": "markdown",
      "metadata": {
        "id": "I875SvFA-MnG",
        "colab_type": "text"
      },
      "source": [
        "**LOAD DATA**"
      ]
    },
    {
      "cell_type": "code",
      "metadata": {
        "id": "t6w-39Hu-GoO",
        "colab_type": "code",
        "colab": {}
      },
      "source": [
        "def load_data(): \n",
        " \n",
        "  #funzione per scaricare i dati da kaggle\n",
        "  os.environ['KAGGLE_USERNAME'] = username\n",
        "  os.environ['KAGGLE_KEY'] = key\n",
        "  !kaggle competitions download -c titanic\n",
        "  !ls /content\n",
        "  !unzip titanic"
      ],
      "execution_count": 0,
      "outputs": []
    },
    {
      "cell_type": "code",
      "metadata": {
        "id": "BfewWMcxBUvW",
        "colab_type": "code",
        "colab": {}
      },
      "source": [
        "def read_files():\n",
        "  #leggi righe file train con dataFrame di pandas\n",
        "  dataset = pd.read_csv(\"train.csv\") \n",
        "  # split into input (X) and output (Y) variables\n",
        "  t = pd.read_csv(\"test.csv\") \n",
        "  s = pd.read_csv(\"gender_submission.csv\")\n",
        "  return dataset,t,s"
      ],
      "execution_count": 0,
      "outputs": []
    },
    {
      "cell_type": "code",
      "metadata": {
        "id": "ajv0QHLJ-EKe",
        "colab_type": "code",
        "colab": {}
      },
      "source": [
        "def data_replace(X):\n",
        "  #decommenta per riposizionare valori nulli\n",
        "  #X.fillna(-1, inplace=True)\n",
        "\n",
        "  # drop the variables we won't be using\n",
        "  X.drop([ 'Name','PassengerId', 'Ticket','Cabin'], axis=1, inplace=True)\n",
        "\n",
        "  #trasformo i NaN delle parole con la parola piu frequente\n",
        "  imputer = SimpleImputer(missing_values=np.nan, strategy='most_frequent')\n",
        "  X[['Sex','Embarked','Pclass']]=imputer.fit(X[['Sex','Embarked','Pclass']]).transform(X[['Sex','Embarked','Pclass']])\n",
        "\n",
        "  #converti i NaN dei numeri con la media della colonna\n",
        "  imputer = SimpleImputer(missing_values=np.nan, strategy='mean')\n",
        "  X[['Fare','Parch','Age']]=imputer.fit(X[['Fare','Parch','Age']]).transform(X[['Fare','Parch','Age']])\n",
        "\n",
        "\n",
        "  # CONVERTI TUTTE LE PAROLE IN NUMERI\n",
        "  X['Sex'] = X['Sex'].astype('category').cat.codes\n",
        "\n",
        "  # subset all categorical variables which need to be encoded\n",
        "  categorical = ['Embarked','Pclass']\n",
        "  #creo colonne per avere variabili 0,1\n",
        "  for var in categorical:\n",
        "    X = pd.concat([X,pd.get_dummies(X[var], prefix=var)], axis=1)\n",
        "    del X[var]\n",
        "\n",
        "\n",
        "  return X\n",
        "\n"
      ],
      "execution_count": 0,
      "outputs": []
    },
    {
      "cell_type": "code",
      "metadata": {
        "id": "uM8--lw312ey",
        "colab_type": "code",
        "colab": {}
      },
      "source": [
        "def standardization(X):\n",
        "  continuous = ['Age', 'Fare', 'Parch', 'SibSp']\n",
        "\n",
        "  scaler = StandardScaler()\n",
        "  X[continuous] = scaler.fit_transform(X[continuous])\n",
        "  return X\n",
        "  "
      ],
      "execution_count": 0,
      "outputs": []
    },
    {
      "cell_type": "code",
      "metadata": {
        "id": "vo9rqdOMNZZI",
        "colab_type": "code",
        "colab": {}
      },
      "source": [
        "def principal_component(X):\n",
        "  pca = decomposition.PCA(n_components=X.shape[1])\n",
        "  pca.fit(X)\n",
        "  pca_score = pca.explained_variance_ratio_\n",
        "  \n",
        "  print(\"Score PCA: \\n\", pca_score)\n",
        "  print(\"\\n\\n\")\n",
        "\n",
        "  X = pca.transform(X)\n",
        "  V = pca.components_\n",
        "  return X\n",
        "\n"
      ],
      "execution_count": 0,
      "outputs": []
    },
    {
      "cell_type": "code",
      "metadata": {
        "id": "Ku9R7sxZHSUB",
        "colab_type": "code",
        "colab": {}
      },
      "source": [
        "def create_model(lyrs=[8], act='linear', opt='Adam', dr=0):\n",
        "\n",
        "    #la lunghezza del vettore lyrs indica il numero dei livelli, il contenuto indica il numero di neuroni ad ogni livello\n",
        "    #per poter passare il vettore dalla grid, deve essere almeno di 2 elementi, quindi per evitare di avere vettori di 1 elemento ho aggiunto 0\n",
        "\n",
        "\n",
        "    # set random seed for reproducibility\n",
        "    np.random.seed(seed=44)\n",
        "\n",
        "    model = Sequential()\n",
        "    \n",
        "     # create first hidden layer\n",
        "    model.add(Dense(lyrs[0], input_dim=11, activation=act))\n",
        "    \n",
        "    # create additional hidden layers\n",
        "    for i in range(1,len(lyrs)):\n",
        "        model.add(Dense(lyrs[i], activation=act))\n",
        "    \n",
        "    # add dropout, default is none\n",
        "    model.add(Dropout(rate=dr))\n",
        "    \n",
        "    # create output layer\n",
        "    model.add(Dense(1, activation='sigmoid'))  # output layer\n",
        "    \n",
        "    model.compile(loss='binary_crossentropy', optimizer=opt, metrics=['accuracy'])\n",
        "    \n",
        "    return model\n",
        "   "
      ],
      "execution_count": 0,
      "outputs": []
    },
    {
      "cell_type": "code",
      "metadata": {
        "id": "TlXC7enrHzqg",
        "colab_type": "code",
        "colab": {}
      },
      "source": [
        "def train_model(model,X,Y):\n",
        "  #early_stopping = EarlyStopping(monitor='val_acc', mode='max',patience=20)\n",
        "  #baseline è l'errore minimo che voglio raggiungere, per l'accuratezza si usa min_delta=1\n",
        "  early_stopping = EarlyStopping(monitor='val_loss', mode='min',patience=20, baseline=0.4)\n",
        "\n",
        "  training = model.fit(X, Y, epochs=50, batch_size=64, validation_split=0.2, verbose=0)\n",
        "  val_acc = np.mean(training.history['val_acc'])\n",
        "  print(\"\\n%s: %.2f%%\" % ('val_acc', val_acc*100))\n",
        "\n",
        "  # summarize history for accuracy\n",
        "  plt.plot(training.history['acc'])\n",
        "  plt.plot(training.history['val_acc'])\n",
        "  plt.title('model accuracy')\n",
        "  plt.ylabel('accuracy')\n",
        "  plt.xlabel('epoch')\n",
        "  plt.legend(['train', 'validation'], loc='upper left')\n",
        "  plt.show()\n",
        "\n",
        "  # grafici della loss epoca per epoca\n",
        "  plt.plot(training.history['loss'])\n",
        "  plt.plot(training.history['val_loss'])\n",
        "  plt.title('model loss')\n",
        "  plt.ylabel('loss')\n",
        "  plt.xlabel('epoch')\n",
        "  plt.legend(['train', 'test'], loc='upper left')\n",
        "  plt.show()"
      ],
      "execution_count": 0,
      "outputs": []
    },
    {
      "cell_type": "code",
      "metadata": {
        "id": "XiOdPoTCRCqb",
        "colab_type": "code",
        "colab": {}
      },
      "source": [
        "def grid_search(X,Y):\n",
        "  # create model\n",
        "  #dev essere creato un metodo che crea il modello chiamato create_model()\n",
        "  model = KerasClassifier(build_fn=create_model, verbose=0)\n",
        "\n",
        "  # define the grid search parameters\n",
        "  batch_size = [16, 32, 64]\n",
        "  epochs = [50, 100]\n",
        "  param_grid = dict(batch_size=batch_size, epochs=epochs)\n",
        "\n",
        "  # search the grid\n",
        "  grid = GridSearchCV(estimator=model, \n",
        "                      param_grid=param_grid,\n",
        "                      cv=3, #NUMERO DEI FOLDS\n",
        "                      verbose=2)  # include n_jobs=-1 if you are using CPU\n",
        "\n",
        "  grid_result = grid.fit(X, Y)\n",
        "\n",
        "\n",
        "  print(\"Best parameter model: accuracy : %f using %s\" % (grid_result.best_score_, grid_result.best_params_))\n",
        "  means = grid_result.cv_results_['mean_test_score']\n",
        "  stds = grid_result.cv_results_['std_test_score']\n",
        "  params = grid_result.cv_results_['params']\n",
        "  for mean, stdev, param in zip(means, stds, params):\n",
        "    print(\"%f (%f) with: %r\" % (mean, stdev, param))"
      ],
      "execution_count": 0,
      "outputs": []
    },
    {
      "cell_type": "code",
      "metadata": {
        "id": "dPrsJmJGc700",
        "colab_type": "code",
        "colab": {}
      },
      "source": [
        " def grid_optimizer(X,Y):\n",
        "  model = KerasClassifier(build_fn=create_model, epochs=50, batch_size=64, verbose=0)\n",
        "\n",
        "  # define the grid search parameters\n",
        "  optimizer = ['SGD', 'RMSprop', 'Adagrad', 'Adadelta', 'Adam', 'Nadam']\n",
        "  param_grid = dict(opt=optimizer)\n",
        "\n",
        "  # search the grid\n",
        "  grid = GridSearchCV(estimator=model, param_grid=param_grid,  cv=3, verbose=2)\n",
        "  grid_result = grid.fit(X, Y)\n",
        "\n",
        "\n",
        "  # summarize results\n",
        "  print(\"Best: %f using %s\" % (grid_result.best_score_, grid_result.best_params_))\n",
        "  means = grid_result.cv_results_['mean_test_score']\n",
        "  stds = grid_result.cv_results_['std_test_score']\n",
        "  params = grid_result.cv_results_['params']\n",
        "  for mean, stdev, param in zip(means, stds, params):\n",
        "      print(\"%f (%f) with: %r\" % (mean, stdev, param))"
      ],
      "execution_count": 0,
      "outputs": []
    },
    {
      "cell_type": "code",
      "metadata": {
        "id": "N7xutDWUfgbH",
        "colab_type": "code",
        "colab": {}
      },
      "source": [
        "def grid_hidden_layer(X,Y):\n",
        "  np.random.seed(seed=44)\n",
        "\n",
        "  # create model\n",
        "  model = KerasClassifier(build_fn=create_model, \n",
        "                          epochs=50, batch_size=32, verbose=0)\n",
        "\n",
        "  # define the grid search parameters\n",
        "  layers = [(10,5),(12,6),(12,8,4)]\n",
        "  param_grid = dict(lyrs=layers)\n",
        "\n",
        "  # search the grid\n",
        "  grid = GridSearchCV(estimator=model, param_grid=param_grid,   cv=3,verbose=2)\n",
        "  grid_result = grid.fit(X, Y)\n",
        "\n",
        "  # summarize results\n",
        "  print(\"Best: %f using %s\" % (grid_result.best_score_, grid_result.best_params_))\n",
        "  means = grid_result.cv_results_['mean_test_score']\n",
        "  stds = grid_result.cv_results_['std_test_score']\n",
        "  params = grid_result.cv_results_['params']\n",
        "  for mean, stdev, param in zip(means, stds, params):\n",
        "      print(\"%f (%f) with: %r\" % (mean, stdev, param))"
      ],
      "execution_count": 0,
      "outputs": []
    },
    {
      "cell_type": "code",
      "metadata": {
        "id": "YpIrsgLkgzFk",
        "colab_type": "code",
        "colab": {}
      },
      "source": [
        "def grid_dropout(X,Y):\n",
        "  # create model\n",
        "  model = KerasClassifier(build_fn=create_model, \n",
        "                          epochs=50, batch_size=32,  verbose=0)\n",
        "\n",
        "  # define the grid search parameters\n",
        "  drops = [0.0, 0.01, 0.05, 0.1, 0.2, 0.5]\n",
        "  param_grid = dict(dr=drops)\n",
        "  grid = GridSearchCV(estimator=model, param_grid=param_grid, cv=3, verbose=2)\n",
        "  grid_result = grid.fit(X, Y)\n",
        "  # summarize results\n",
        "  print(\"Best: %f using %s\" % (grid_result.best_score_, grid_result.best_params_))\n",
        "  means = grid_result.cv_results_['mean_test_score']\n",
        "  stds = grid_result.cv_results_['std_test_score']\n",
        "  params = grid_result.cv_results_['params']\n",
        "  for mean, stdev, param in zip(means, stds, params):\n",
        "      print(\"%f (%f) with: %r\" % (mean, stdev, param))"
      ],
      "execution_count": 0,
      "outputs": []
    },
    {
      "cell_type": "markdown",
      "metadata": {
        "id": "uen-iOJJgdsw",
        "colab_type": "text"
      },
      "source": [
        "\n",
        "**PREPROCESSING MAIN**"
      ]
    },
    {
      "cell_type": "code",
      "metadata": {
        "id": "kBUU-dWngjq2",
        "colab_type": "code",
        "outputId": "b96525ce-230a-47c7-95b5-c0c2b64d134e",
        "colab": {
          "base_uri": "https://localhost:8080/",
          "height": 369
        }
      },
      "source": [
        "#run if data not exits\n",
        "#load_data()\n",
        "#split in validation\n",
        "dataset,test, submission=read_files()\n",
        "Y = dataset.iloc[:,1]\n",
        "X = dataset.iloc[:,0:12]\n",
        "X.drop([ 'Survived'], axis=1, inplace=True)\n",
        "\n",
        "test=data_replace(test)\n",
        "\n",
        "#mapping male e famale in 0,1\n",
        "#mapping imbarco su 3 colonne\n",
        "#remove null value sostituendoli con media o frequenza della parola\n",
        "#remove name,ticket,cabina\n",
        "X=data_replace(X)\n",
        "\n",
        "#standardization\n",
        "X=standardization(X)\n",
        "test=standardization(test)\n",
        "\n",
        "principal_component(X)\n"
      ],
      "execution_count": 27,
      "outputs": [
        {
          "output_type": "stream",
          "text": [
            "Score PCA: \n",
            " [3.13566044e-01 2.42191218e-01 1.37427959e-01 1.11462164e-01\n",
            " 6.40503481e-02 5.09074881e-02 3.64543061e-02 2.63165060e-02\n",
            " 1.76239664e-02 4.64874655e-33 1.33072066e-33]\n",
            "\n",
            "\n",
            "\n"
          ],
          "name": "stdout"
        },
        {
          "output_type": "execute_result",
          "data": {
            "text/plain": [
              "array([[-1.55256916e-02, -9.89001225e-01,  1.06931858e-01, ...,\n",
              "        -9.10488652e-02, -8.58447439e-17,  1.28590018e-16],\n",
              "       [ 8.79221199e-02,  1.39511410e+00,  2.68260509e-01, ...,\n",
              "        -1.79007142e-01,  3.37427784e-16,  1.75677150e-17],\n",
              "       [-5.70286749e-01, -6.63173102e-01,  2.19580638e-01, ...,\n",
              "        -2.58472777e-01, -1.69111471e-16,  7.30788663e-17],\n",
              "       ...,\n",
              "       [ 1.52389025e+00, -2.84067640e-01, -9.90333935e-01, ...,\n",
              "        -1.75162204e-01,  1.63955437e-16,  1.75677150e-17],\n",
              "       [-5.21507216e-01,  3.18739160e-01,  7.93721556e-01, ...,\n",
              "         6.84469561e-02,  4.48450087e-16, -1.48965739e-16],\n",
              "       [-8.62494721e-01, -4.08764688e-01, -1.74186103e-02, ...,\n",
              "         8.19258424e-01,  3.86000042e-16,  7.30788663e-17]])"
            ]
          },
          "metadata": {
            "tags": []
          },
          "execution_count": 27
        }
      ]
    },
    {
      "cell_type": "markdown",
      "metadata": {
        "id": "KIss3e4YQTGX",
        "colab_type": "text"
      },
      "source": [
        "**TUNING NEURONS FIRST LAYER MAIN**"
      ]
    },
    {
      "cell_type": "code",
      "metadata": {
        "id": "sKL8v8zaQag4",
        "colab_type": "code",
        "outputId": "1644e4d6-ade2-4e33-8fac-460b93504482",
        "colab": {
          "base_uri": "https://localhost:8080/",
          "height": 1000
        }
      },
      "source": [
        "lyrs=[[8],[10]]\n",
        "display(Y)\n",
        "#per ognuno dei 10 fold creo il modello e lo fitto, lo faccio due volte ad ogni ciclo per valutare quale neurone è migliore\n",
        "for i in range(0,len(lyrs)):\n",
        "  model=create_model(lyrs[i])\n",
        "  print(model.summary())\n",
        "  #fit model\n",
        "  train_model(model,X,Y)"
      ],
      "execution_count": 28,
      "outputs": [
        {
          "output_type": "display_data",
          "data": {
            "text/plain": [
              "0      0\n",
              "1      1\n",
              "2      1\n",
              "3      1\n",
              "4      0\n",
              "      ..\n",
              "886    0\n",
              "887    1\n",
              "888    0\n",
              "889    1\n",
              "890    0\n",
              "Name: Survived, Length: 891, dtype: int64"
            ]
          },
          "metadata": {
            "tags": []
          }
        },
        {
          "output_type": "stream",
          "text": [
            "Model: \"sequential_25\"\n",
            "_________________________________________________________________\n",
            "Layer (type)                 Output Shape              Param #   \n",
            "=================================================================\n",
            "dense_49 (Dense)             (None, 8)                 96        \n",
            "_________________________________________________________________\n",
            "dropout_25 (Dropout)         (None, 8)                 0         \n",
            "_________________________________________________________________\n",
            "dense_50 (Dense)             (None, 1)                 9         \n",
            "=================================================================\n",
            "Total params: 105\n",
            "Trainable params: 105\n",
            "Non-trainable params: 0\n",
            "_________________________________________________________________\n",
            "None\n",
            "WARNING:tensorflow:From /usr/local/lib/python3.6/dist-packages/keras/backend/tensorflow_backend.py:1033: The name tf.assign_add is deprecated. Please use tf.compat.v1.assign_add instead.\n",
            "\n",
            "\n",
            "val_acc: 82.37%\n"
          ],
          "name": "stdout"
        },
        {
          "output_type": "display_data",
          "data": {
            "image/png": "[encoded data removed]",
            "text/plain": [
              "<Figure size 432x288 with 1 Axes>"
            ]
          },
          "metadata": {
            "tags": []
          }
        },
        {
          "output_type": "display_data",
          "data": {
            "image/png": "[encoded data removed]",
            "text/plain": [
              "<Figure size 432x288 with 1 Axes>"
            ]
          },
          "metadata": {
            "tags": []
          }
        },
        {
          "output_type": "stream",
          "text": [
            "Model: \"sequential_26\"\n",
            "_________________________________________________________________\n",
            "Layer (type)                 Output Shape              Param #   \n",
            "=================================================================\n",
            "dense_51 (Dense)             (None, 10)                120       \n",
            "_________________________________________________________________\n",
            "dropout_26 (Dropout)         (None, 10)                0         \n",
            "_________________________________________________________________\n",
            "dense_52 (Dense)             (None, 1)                 11        \n",
            "=================================================================\n",
            "Total params: 131\n",
            "Trainable params: 131\n",
            "Non-trainable params: 0\n",
            "_________________________________________________________________\n",
            "None\n",
            "\n",
            "val_acc: 82.48%\n"
          ],
          "name": "stdout"
        },
        {
          "output_type": "display_data",
          "data": {
            "image/png": "[encoded data removed]",
            "text/plain": [
              "<Figure size 432x288 with 1 Axes>"
            ]
          },
          "metadata": {
            "tags": []
          }
        },
        {
          "output_type": "display_data",
          "data": {
            "image/png": "[encoded data removed]",
            "text/plain": [
              "<Figure size 432x288 with 1 Axes>"
            ]
          },
          "metadata": {
            "tags": []
          }
        }
      ]
    },
    {
      "cell_type": "markdown",
      "metadata": {
        "id": "EYM-wigdQlu4",
        "colab_type": "text"
      },
      "source": [
        "**GRID SEARCH:  PARAMETERS TUNING MAIN**\n",
        "\n",
        "1.   BATCH SIZE: 16,32,64\n",
        "2.   EPOCH: 50,10\n",
        "\n",
        "\n",
        "\n",
        "\n",
        "\n",
        "\n"
      ]
    },
    {
      "cell_type": "code",
      "metadata": {
        "id": "yvqX7hCZQ0wI",
        "colab_type": "code",
        "outputId": "647b9df6-9d86-48de-a4eb-78c4b623cbce",
        "colab": {
          "base_uri": "https://localhost:8080/",
          "height": 862
        }
      },
      "source": [
        "grid_search(X,Y)  "
      ],
      "execution_count": 29,
      "outputs": [
        {
          "output_type": "stream",
          "text": [
            "Fitting 3 folds for each of 6 candidates, totalling 18 fits\n",
            "[CV] batch_size=16, epochs=50 ........................................\n",
            "ERROR! Session/line number was not unique in database. History logging moved to new session 62\n"
          ],
          "name": "stdout"
        },
        {
          "output_type": "stream",
          "text": [
            "[Parallel(n_jobs=1)]: Using backend SequentialBackend with 1 concurrent workers.\n"
          ],
          "name": "stderr"
        },
        {
          "output_type": "stream",
          "text": [
            "[CV] ......................... batch_size=16, epochs=50, total=   2.9s\n",
            "[CV] batch_size=16, epochs=50 ........................................\n"
          ],
          "name": "stdout"
        },
        {
          "output_type": "stream",
          "text": [
            "[Parallel(n_jobs=1)]: Done   1 out of   1 | elapsed:    2.9s remaining:    0.0s\n"
          ],
          "name": "stderr"
        },
        {
          "output_type": "stream",
          "text": [
            "[CV] ......................... batch_size=16, epochs=50, total=   2.9s\n",
            "[CV] batch_size=16, epochs=50 ........................................\n",
            "[CV] ......................... batch_size=16, epochs=50, total=   2.9s\n",
            "[CV] batch_size=16, epochs=100 .......................................\n",
            "[CV] ........................ batch_size=16, epochs=100, total=   5.0s\n",
            "[CV] batch_size=16, epochs=100 .......................................\n",
            "[CV] ........................ batch_size=16, epochs=100, total=   5.4s\n",
            "[CV] batch_size=16, epochs=100 .......................................\n",
            "[CV] ........................ batch_size=16, epochs=100, total=   5.3s\n",
            "[CV] batch_size=32, epochs=50 ........................................\n",
            "[CV] ......................... batch_size=32, epochs=50, total=   2.3s\n",
            "[CV] batch_size=32, epochs=50 ........................................\n",
            "[CV] ......................... batch_size=32, epochs=50, total=   2.3s\n",
            "[CV] batch_size=32, epochs=50 ........................................\n",
            "[CV] ......................... batch_size=32, epochs=50, total=   2.4s\n",
            "[CV] batch_size=32, epochs=100 .......................................\n",
            "[CV] ........................ batch_size=32, epochs=100, total=   3.7s\n",
            "[CV] batch_size=32, epochs=100 .......................................\n",
            "[CV] ........................ batch_size=32, epochs=100, total=   3.6s\n",
            "[CV] batch_size=32, epochs=100 .......................................\n",
            "[CV] ........................ batch_size=32, epochs=100, total=   3.6s\n",
            "[CV] batch_size=64, epochs=50 ........................................\n",
            "[CV] ......................... batch_size=64, epochs=50, total=   2.1s\n",
            "[CV] batch_size=64, epochs=50 ........................................\n",
            "[CV] ......................... batch_size=64, epochs=50, total=   2.2s\n",
            "[CV] batch_size=64, epochs=50 ........................................\n",
            "[CV] ......................... batch_size=64, epochs=50, total=   2.3s\n",
            "[CV] batch_size=64, epochs=100 .......................................\n",
            "[CV] ........................ batch_size=64, epochs=100, total=   3.2s\n",
            "[CV] batch_size=64, epochs=100 .......................................\n",
            "[CV] ........................ batch_size=64, epochs=100, total=   3.1s\n",
            "[CV] batch_size=64, epochs=100 .......................................\n",
            "[CV] ........................ batch_size=64, epochs=100, total=   3.2s\n"
          ],
          "name": "stdout"
        },
        {
          "output_type": "stream",
          "text": [
            "[Parallel(n_jobs=1)]: Done  18 out of  18 | elapsed:   58.2s finished\n"
          ],
          "name": "stderr"
        },
        {
          "output_type": "stream",
          "text": [
            "Best parameter model: accuracy : 0.799102 using {'batch_size': 64, 'epochs': 50}\n",
            "0.791246 (0.011983) with: {'batch_size': 16, 'epochs': 50}\n",
            "0.794613 (0.009523) with: {'batch_size': 16, 'epochs': 100}\n",
            "0.792368 (0.006349) with: {'batch_size': 32, 'epochs': 50}\n",
            "0.793490 (0.012992) with: {'batch_size': 32, 'epochs': 100}\n",
            "0.799102 (0.016798) with: {'batch_size': 64, 'epochs': 50}\n",
            "0.794613 (0.009523) with: {'batch_size': 64, 'epochs': 100}\n"
          ],
          "name": "stdout"
        }
      ]
    },
    {
      "cell_type": "markdown",
      "metadata": {
        "id": "sjK8uljdcyhk",
        "colab_type": "text"
      },
      "source": [
        "**GRID SEARCH OPTIMIZER TUNING MAIN**"
      ]
    },
    {
      "cell_type": "code",
      "metadata": {
        "id": "CC4zUD16c5l8",
        "colab_type": "code",
        "colab": {
          "base_uri": "https://localhost:8080/",
          "height": 844
        },
        "outputId": "222f7800-203f-460a-e9cf-dad021d01f19"
      },
      "source": [
        "grid_optimizer(X,Y)"
      ],
      "execution_count": 30,
      "outputs": [
        {
          "output_type": "stream",
          "text": [
            "Fitting 3 folds for each of 6 candidates, totalling 18 fits\n",
            "[CV] opt=SGD .........................................................\n"
          ],
          "name": "stdout"
        },
        {
          "output_type": "stream",
          "text": [
            "[Parallel(n_jobs=1)]: Using backend SequentialBackend with 1 concurrent workers.\n"
          ],
          "name": "stderr"
        },
        {
          "output_type": "stream",
          "text": [
            "[CV] .......................................... opt=SGD, total=   2.6s\n",
            "[CV] opt=SGD .........................................................\n"
          ],
          "name": "stdout"
        },
        {
          "output_type": "stream",
          "text": [
            "[Parallel(n_jobs=1)]: Done   1 out of   1 | elapsed:    2.6s remaining:    0.0s\n"
          ],
          "name": "stderr"
        },
        {
          "output_type": "stream",
          "text": [
            "[CV] .......................................... opt=SGD, total=   2.6s\n",
            "[CV] opt=SGD .........................................................\n",
            "[CV] .......................................... opt=SGD, total=   2.6s\n",
            "[CV] opt=RMSprop .....................................................\n",
            "[CV] ...................................... opt=RMSprop, total=   2.7s\n",
            "[CV] opt=RMSprop .....................................................\n",
            "[CV] ...................................... opt=RMSprop, total=   2.8s\n",
            "[CV] opt=RMSprop .....................................................\n",
            "[CV] ...................................... opt=RMSprop, total=   3.1s\n",
            "[CV] opt=Adagrad .....................................................\n",
            "[CV] ...................................... opt=Adagrad, total=   2.9s\n",
            "[CV] opt=Adagrad .....................................................\n",
            "[CV] ...................................... opt=Adagrad, total=   3.0s\n",
            "[CV] opt=Adagrad .....................................................\n",
            "[CV] ...................................... opt=Adagrad, total=   3.1s\n",
            "[CV] opt=Adadelta ....................................................\n",
            "[CV] ..................................... opt=Adadelta, total=   3.2s\n",
            "[CV] opt=Adadelta ....................................................\n",
            "[CV] ..................................... opt=Adadelta, total=   3.3s\n",
            "[CV] opt=Adadelta ....................................................\n",
            "[CV] ..................................... opt=Adadelta, total=   3.3s\n",
            "[CV] opt=Adam ........................................................\n",
            "[CV] ......................................... opt=Adam, total=   3.4s\n",
            "[CV] opt=Adam ........................................................\n",
            "[CV] ......................................... opt=Adam, total=   3.4s\n",
            "[CV] opt=Adam ........................................................\n",
            "[CV] ......................................... opt=Adam, total=   3.5s\n",
            "[CV] opt=Nadam .......................................................\n",
            "[CV] ........................................ opt=Nadam, total=   3.8s\n",
            "[CV] opt=Nadam .......................................................\n",
            "[CV] ........................................ opt=Nadam, total=   3.6s\n",
            "[CV] opt=Nadam .......................................................\n",
            "[CV] ........................................ opt=Nadam, total=   3.8s\n"
          ],
          "name": "stdout"
        },
        {
          "output_type": "stream",
          "text": [
            "[Parallel(n_jobs=1)]: Done  18 out of  18 | elapsed:   56.8s finished\n"
          ],
          "name": "stderr"
        },
        {
          "output_type": "stream",
          "text": [
            "Best: 0.799102 using {'opt': 'Adam'}\n",
            "0.786756 (0.030157) with: {'opt': 'SGD'}\n",
            "0.792368 (0.013561) with: {'opt': 'RMSprop'}\n",
            "0.797980 (0.016722) with: {'opt': 'Adagrad'}\n",
            "0.796857 (0.011111) with: {'opt': 'Adadelta'}\n",
            "0.799102 (0.016798) with: {'opt': 'Adam'}\n",
            "0.792368 (0.011111) with: {'opt': 'Nadam'}\n"
          ],
          "name": "stdout"
        }
      ]
    },
    {
      "cell_type": "markdown",
      "metadata": {
        "id": "dZd52Up0fseu",
        "colab_type": "text"
      },
      "source": [
        "**GRID SEARCH HIDDEN LAYER AND NEURONS TUNING MAIN** \n",
        "\n",
        "*   [8],[10],[10,5],[12,6],[12,8,4]\n",
        "*   la lunghezza del singolo vettore è il numero di layer, il contenuto il numero di neuroni\n",
        "\n"
      ]
    },
    {
      "cell_type": "code",
      "metadata": {
        "id": "3Pral2DFfzrT",
        "colab_type": "code",
        "colab": {
          "base_uri": "https://localhost:8080/",
          "height": 474
        },
        "outputId": "6def7171-4b49-45a5-9153-e62fe2614d3e"
      },
      "source": [
        "grid_hidden_layer(X,Y)"
      ],
      "execution_count": 31,
      "outputs": [
        {
          "output_type": "stream",
          "text": [
            "Fitting 3 folds for each of 3 candidates, totalling 9 fits\n",
            "[CV] lyrs=(10, 5) ....................................................\n"
          ],
          "name": "stdout"
        },
        {
          "output_type": "stream",
          "text": [
            "[Parallel(n_jobs=1)]: Using backend SequentialBackend with 1 concurrent workers.\n"
          ],
          "name": "stderr"
        },
        {
          "output_type": "stream",
          "text": [
            "[CV] ..................................... lyrs=(10, 5), total=   4.6s\n",
            "[CV] lyrs=(10, 5) ....................................................\n"
          ],
          "name": "stdout"
        },
        {
          "output_type": "stream",
          "text": [
            "[Parallel(n_jobs=1)]: Done   1 out of   1 | elapsed:    4.6s remaining:    0.0s\n"
          ],
          "name": "stderr"
        },
        {
          "output_type": "stream",
          "text": [
            "[CV] ..................................... lyrs=(10, 5), total=   4.7s\n",
            "[CV] lyrs=(10, 5) ....................................................\n",
            "[CV] ..................................... lyrs=(10, 5), total=   4.8s\n",
            "[CV] lyrs=(12, 6) ....................................................\n",
            "[CV] ..................................... lyrs=(12, 6), total=   4.9s\n",
            "[CV] lyrs=(12, 6) ....................................................\n",
            "[CV] ..................................... lyrs=(12, 6), total=   4.9s\n",
            "[CV] lyrs=(12, 6) ....................................................\n",
            "[CV] ..................................... lyrs=(12, 6), total=   5.1s\n",
            "[CV] lyrs=(12, 8, 4) .................................................\n",
            "[CV] .................................. lyrs=(12, 8, 4), total=   5.6s\n",
            "[CV] lyrs=(12, 8, 4) .................................................\n",
            "[CV] .................................. lyrs=(12, 8, 4), total=   5.3s\n",
            "[CV] lyrs=(12, 8, 4) .................................................\n",
            "[CV] .................................. lyrs=(12, 8, 4), total=   5.5s\n"
          ],
          "name": "stdout"
        },
        {
          "output_type": "stream",
          "text": [
            "[Parallel(n_jobs=1)]: Done   9 out of   9 | elapsed:   45.5s finished\n"
          ],
          "name": "stderr"
        },
        {
          "output_type": "stream",
          "text": [
            "Best: 0.793490 using {'lyrs': (12, 6)}\n",
            "0.792368 (0.009655) with: {'lyrs': (10, 5)}\n",
            "0.793490 (0.010408) with: {'lyrs': (12, 6)}\n",
            "0.793490 (0.011111) with: {'lyrs': (12, 8, 4)}\n"
          ],
          "name": "stdout"
        }
      ]
    },
    {
      "cell_type": "markdown",
      "metadata": {
        "id": "MGi-lP7ehByo",
        "colab_type": "text"
      },
      "source": [
        "**GRID DROPOUT MAIN**\n",
        "\n",
        "*   0.0, 0.01, 0.05, 0.1, 0.2, 0.5\n",
        "\n"
      ]
    },
    {
      "cell_type": "code",
      "metadata": {
        "id": "P7jFYGlnhLAO",
        "colab_type": "code",
        "colab": {
          "base_uri": "https://localhost:8080/",
          "height": 917
        },
        "outputId": "7ae3e963-f10c-4c48-908a-e643a4d28891"
      },
      "source": [
        "grid_dropout(X,Y)"
      ],
      "execution_count": 32,
      "outputs": [
        {
          "output_type": "stream",
          "text": [
            "Fitting 3 folds for each of 6 candidates, totalling 18 fits\n",
            "[CV] dr=0.0 ..........................................................\n"
          ],
          "name": "stdout"
        },
        {
          "output_type": "stream",
          "text": [
            "[Parallel(n_jobs=1)]: Using backend SequentialBackend with 1 concurrent workers.\n"
          ],
          "name": "stderr"
        },
        {
          "output_type": "stream",
          "text": [
            "[CV] ........................................... dr=0.0, total=   5.6s\n",
            "[CV] dr=0.0 ..........................................................\n"
          ],
          "name": "stdout"
        },
        {
          "output_type": "stream",
          "text": [
            "[Parallel(n_jobs=1)]: Done   1 out of   1 | elapsed:    5.6s remaining:    0.0s\n"
          ],
          "name": "stderr"
        },
        {
          "output_type": "stream",
          "text": [
            "[CV] ........................................... dr=0.0, total=   5.5s\n",
            "[CV] dr=0.0 ..........................................................\n",
            "[CV] ........................................... dr=0.0, total=   5.6s\n",
            "[CV] dr=0.01 .........................................................\n",
            "WARNING:tensorflow:From /usr/local/lib/python3.6/dist-packages/keras/backend/tensorflow_backend.py:3733: calling dropout (from tensorflow.python.ops.nn_ops) with keep_prob is deprecated and will be removed in a future version.\n",
            "Instructions for updating:\n",
            "Please use `rate` instead of `keep_prob`. Rate should be set to `rate = 1 - keep_prob`.\n",
            "[CV] .......................................... dr=0.01, total=   5.8s\n",
            "[CV] dr=0.01 .........................................................\n",
            "[CV] .......................................... dr=0.01, total=   5.9s\n",
            "[CV] dr=0.01 .........................................................\n",
            "[CV] .......................................... dr=0.01, total=   5.9s\n",
            "[CV] dr=0.05 .........................................................\n",
            "[CV] .......................................... dr=0.05, total=   6.0s\n",
            "[CV] dr=0.05 .........................................................\n",
            "[CV] .......................................... dr=0.05, total=   6.1s\n",
            "[CV] dr=0.05 .........................................................\n",
            "[CV] .......................................... dr=0.05, total=   6.2s\n",
            "[CV] dr=0.1 ..........................................................\n",
            "[CV] ........................................... dr=0.1, total=   6.7s\n",
            "[CV] dr=0.1 ..........................................................\n",
            "[CV] ........................................... dr=0.1, total=   6.4s\n",
            "[CV] dr=0.1 ..........................................................\n",
            "[CV] ........................................... dr=0.1, total=   6.5s\n",
            "[CV] dr=0.2 ..........................................................\n",
            "[CV] ........................................... dr=0.2, total=   6.5s\n",
            "[CV] dr=0.2 ..........................................................\n",
            "[CV] ........................................... dr=0.2, total=   6.6s\n",
            "[CV] dr=0.2 ..........................................................\n",
            "[CV] ........................................... dr=0.2, total=   6.7s\n",
            "[CV] dr=0.5 ..........................................................\n",
            "[CV] ........................................... dr=0.5, total=   6.7s\n",
            "[CV] dr=0.5 ..........................................................\n",
            "[CV] ........................................... dr=0.5, total=   6.9s\n",
            "[CV] dr=0.5 ..........................................................\n",
            "[CV] ........................................... dr=0.5, total=   7.0s\n"
          ],
          "name": "stdout"
        },
        {
          "output_type": "stream",
          "text": [
            "[Parallel(n_jobs=1)]: Done  18 out of  18 | elapsed:  1.9min finished\n"
          ],
          "name": "stderr"
        },
        {
          "output_type": "stream",
          "text": [
            "Best: 0.796857 using {'dr': 0.01}\n",
            "0.792368 (0.006349) with: {'dr': 0.0}\n",
            "0.796857 (0.022891) with: {'dr': 0.01}\n",
            "0.793490 (0.022391) with: {'dr': 0.05}\n",
            "0.790123 (0.026417) with: {'dr': 0.1}\n",
            "0.786756 (0.024793) with: {'dr': 0.2}\n",
            "0.773288 (0.024945) with: {'dr': 0.5}\n"
          ],
          "name": "stdout"
        }
      ]
    },
    {
      "cell_type": "markdown",
      "metadata": {
        "id": "voViPYfaXJeH",
        "colab_type": "text"
      },
      "source": [
        "**MODEL CREATION AND FITTING MAIN**"
      ]
    },
    {
      "cell_type": "code",
      "metadata": {
        "id": "w8_Y37iCXQvL",
        "colab_type": "code",
        "outputId": "1532ef83-054e-4c69-8918-d732f41eb78b",
        "colab": {
          "base_uri": "https://localhost:8080/",
          "height": 1000
        }
      },
      "source": [
        "#creazione del modello e training\n",
        "# define 10-fold cross validation test harness\n",
        "kfold = StratifiedKFold(n_splits=5, shuffle=True, random_state=seed)\n",
        "cvscores = []\n",
        "\n",
        "\n",
        "#per ognuno dei 10 fold creo il modello e lo fitto, lo faccio due volte ad ogni ciclo per valutare quale neurone è migliore\n",
        "for train, validation in kfold.split(X, Y):\n",
        "  model=create_model(lyrs=[8], dr=0.1)\n",
        "  print(model.summary())\n",
        "  #fit model\n",
        "  early_stopping = EarlyStopping(monitor='val_loss', mode='min',patience=20, baseline=0.4)\n",
        "  training = model.fit(X.iloc[train],Y.iloc[train], epochs=50, batch_size=64, validation_split=0.2, verbose=0)\n",
        "  # evaluate the model\n",
        "  scores = model.evaluate(X.iloc[validation], Y.iloc[validation], verbose=0)\n",
        "  print(\"%s: %.2f%%\" % (model.metrics_names[1], scores[1]*100))\n",
        "  cvscores.append(scores[1] * 100)\n",
        "print(\"%.2f%% (+/- %.2f%%)\" % (np.mean(cvscores), np.std(cvscores)))\n",
        "\n",
        "\n",
        "\n",
        "display(X.describe(include='all').T)"
      ],
      "execution_count": 33,
      "outputs": [
        {
          "output_type": "stream",
          "text": [
            "ERROR! Session/line number was not unique in database. History logging moved to new session 64\n",
            "Model: \"sequential_94\"\n",
            "_________________________________________________________________\n",
            "Layer (type)                 Output Shape              Param #   \n",
            "=================================================================\n",
            "dense_200 (Dense)            (None, 8)                 96        \n",
            "_________________________________________________________________\n",
            "dropout_94 (Dropout)         (None, 8)                 0         \n",
            "_________________________________________________________________\n",
            "dense_201 (Dense)            (None, 1)                 9         \n",
            "=================================================================\n",
            "Total params: 105\n",
            "Trainable params: 105\n",
            "Non-trainable params: 0\n",
            "_________________________________________________________________\n",
            "None\n",
            "acc: 79.33%\n",
            "Model: \"sequential_95\"\n",
            "_________________________________________________________________\n",
            "Layer (type)                 Output Shape              Param #   \n",
            "=================================================================\n",
            "dense_202 (Dense)            (None, 8)                 96        \n",
            "_________________________________________________________________\n",
            "dropout_95 (Dropout)         (None, 8)                 0         \n",
            "_________________________________________________________________\n",
            "dense_203 (Dense)            (None, 1)                 9         \n",
            "=================================================================\n",
            "Total params: 105\n",
            "Trainable params: 105\n",
            "Non-trainable params: 0\n",
            "_________________________________________________________________\n",
            "None\n",
            "acc: 74.72%\n",
            "Model: \"sequential_96\"\n",
            "_________________________________________________________________\n",
            "Layer (type)                 Output Shape              Param #   \n",
            "=================================================================\n",
            "dense_204 (Dense)            (None, 8)                 96        \n",
            "_________________________________________________________________\n",
            "dropout_96 (Dropout)         (None, 8)                 0         \n",
            "_________________________________________________________________\n",
            "dense_205 (Dense)            (None, 1)                 9         \n",
            "=================================================================\n",
            "Total params: 105\n",
            "Trainable params: 105\n",
            "Non-trainable params: 0\n",
            "_________________________________________________________________\n",
            "None\n",
            "acc: 74.72%\n",
            "Model: \"sequential_97\"\n",
            "_________________________________________________________________\n",
            "Layer (type)                 Output Shape              Param #   \n",
            "=================================================================\n",
            "dense_206 (Dense)            (None, 8)                 96        \n",
            "_________________________________________________________________\n",
            "dropout_97 (Dropout)         (None, 8)                 0         \n",
            "_________________________________________________________________\n",
            "dense_207 (Dense)            (None, 1)                 9         \n",
            "=================================================================\n",
            "Total params: 105\n",
            "Trainable params: 105\n",
            "Non-trainable params: 0\n",
            "_________________________________________________________________\n",
            "None\n",
            "acc: 71.91%\n",
            "Model: \"sequential_98\"\n",
            "_________________________________________________________________\n",
            "Layer (type)                 Output Shape              Param #   \n",
            "=================================================================\n",
            "dense_208 (Dense)            (None, 8)                 96        \n",
            "_________________________________________________________________\n",
            "dropout_98 (Dropout)         (None, 8)                 0         \n",
            "_________________________________________________________________\n",
            "dense_209 (Dense)            (None, 1)                 9         \n",
            "=================================================================\n",
            "Total params: 105\n",
            "Trainable params: 105\n",
            "Non-trainable params: 0\n",
            "_________________________________________________________________\n",
            "None\n",
            "acc: 74.72%\n",
            "75.08% (+/- 2.39%)\n"
          ],
          "name": "stdout"
        },
        {
          "output_type": "display_data",
          "data": {
            "text/html": [
              "<div>\n",
              "<style scoped>\n",
              "    .dataframe tbody tr th:only-of-type {\n",
              "        vertical-align: middle;\n",
              "    }\n",
              "\n",
              "    .dataframe tbody tr th {\n",
              "        vertical-align: top;\n",
              "    }\n",
              "\n",
              "    .dataframe thead th {\n",
              "        text-align: right;\n",
              "    }\n",
              "</style>\n",
              "<table border=\"1\" class=\"dataframe\">\n",
              "  <thead>\n",
              "    <tr style=\"text-align: right;\">\n",
              "      <th></th>\n",
              "      <th>count</th>\n",
              "      <th>mean</th>\n",
              "      <th>std</th>\n",
              "      <th>min</th>\n",
              "      <th>25%</th>\n",
              "      <th>50%</th>\n",
              "      <th>75%</th>\n",
              "      <th>max</th>\n",
              "    </tr>\n",
              "  </thead>\n",
              "  <tbody>\n",
              "    <tr>\n",
              "      <th>Sex</th>\n",
              "      <td>891.0</td>\n",
              "      <td>6.475870e-01</td>\n",
              "      <td>0.477990</td>\n",
              "      <td>0.000000</td>\n",
              "      <td>0.000000</td>\n",
              "      <td>1.000000</td>\n",
              "      <td>1.000000</td>\n",
              "      <td>1.000000</td>\n",
              "    </tr>\n",
              "    <tr>\n",
              "      <th>Age</th>\n",
              "      <td>891.0</td>\n",
              "      <td>2.562796e-16</td>\n",
              "      <td>1.000562</td>\n",
              "      <td>-2.253155</td>\n",
              "      <td>-0.592481</td>\n",
              "      <td>0.000000</td>\n",
              "      <td>0.407926</td>\n",
              "      <td>3.870872</td>\n",
              "    </tr>\n",
              "    <tr>\n",
              "      <th>SibSp</th>\n",
              "      <td>891.0</td>\n",
              "      <td>3.456519e-16</td>\n",
              "      <td>1.000562</td>\n",
              "      <td>-0.474545</td>\n",
              "      <td>-0.474545</td>\n",
              "      <td>-0.474545</td>\n",
              "      <td>0.432793</td>\n",
              "      <td>6.784163</td>\n",
              "    </tr>\n",
              "    <tr>\n",
              "      <th>Parch</th>\n",
              "      <td>891.0</td>\n",
              "      <td>6.716164e-17</td>\n",
              "      <td>1.000562</td>\n",
              "      <td>-0.473674</td>\n",
              "      <td>-0.473674</td>\n",
              "      <td>-0.473674</td>\n",
              "      <td>-0.473674</td>\n",
              "      <td>6.974147</td>\n",
              "    </tr>\n",
              "    <tr>\n",
              "      <th>Fare</th>\n",
              "      <td>891.0</td>\n",
              "      <td>-4.373606e-17</td>\n",
              "      <td>1.000562</td>\n",
              "      <td>-0.648422</td>\n",
              "      <td>-0.489148</td>\n",
              "      <td>-0.357391</td>\n",
              "      <td>-0.024246</td>\n",
              "      <td>9.667167</td>\n",
              "    </tr>\n",
              "    <tr>\n",
              "      <th>Embarked_C</th>\n",
              "      <td>891.0</td>\n",
              "      <td>1.885522e-01</td>\n",
              "      <td>0.391372</td>\n",
              "      <td>0.000000</td>\n",
              "      <td>0.000000</td>\n",
              "      <td>0.000000</td>\n",
              "      <td>0.000000</td>\n",
              "      <td>1.000000</td>\n",
              "    </tr>\n",
              "    <tr>\n",
              "      <th>Embarked_Q</th>\n",
              "      <td>891.0</td>\n",
              "      <td>8.641975e-02</td>\n",
              "      <td>0.281141</td>\n",
              "      <td>0.000000</td>\n",
              "      <td>0.000000</td>\n",
              "      <td>0.000000</td>\n",
              "      <td>0.000000</td>\n",
              "      <td>1.000000</td>\n",
              "    </tr>\n",
              "    <tr>\n",
              "      <th>Embarked_S</th>\n",
              "      <td>891.0</td>\n",
              "      <td>7.250281e-01</td>\n",
              "      <td>0.446751</td>\n",
              "      <td>0.000000</td>\n",
              "      <td>0.000000</td>\n",
              "      <td>1.000000</td>\n",
              "      <td>1.000000</td>\n",
              "      <td>1.000000</td>\n",
              "    </tr>\n",
              "    <tr>\n",
              "      <th>Pclass_1</th>\n",
              "      <td>891.0</td>\n",
              "      <td>2.424242e-01</td>\n",
              "      <td>0.428790</td>\n",
              "      <td>0.000000</td>\n",
              "      <td>0.000000</td>\n",
              "      <td>0.000000</td>\n",
              "      <td>0.000000</td>\n",
              "      <td>1.000000</td>\n",
              "    </tr>\n",
              "    <tr>\n",
              "      <th>Pclass_2</th>\n",
              "      <td>891.0</td>\n",
              "      <td>2.065095e-01</td>\n",
              "      <td>0.405028</td>\n",
              "      <td>0.000000</td>\n",
              "      <td>0.000000</td>\n",
              "      <td>0.000000</td>\n",
              "      <td>0.000000</td>\n",
              "      <td>1.000000</td>\n",
              "    </tr>\n",
              "    <tr>\n",
              "      <th>Pclass_3</th>\n",
              "      <td>891.0</td>\n",
              "      <td>5.510662e-01</td>\n",
              "      <td>0.497665</td>\n",
              "      <td>0.000000</td>\n",
              "      <td>0.000000</td>\n",
              "      <td>1.000000</td>\n",
              "      <td>1.000000</td>\n",
              "      <td>1.000000</td>\n",
              "    </tr>\n",
              "  </tbody>\n",
              "</table>\n",
              "</div>"
            ],
            "text/plain": [
              "            count          mean       std  ...       50%       75%       max\n",
              "Sex         891.0  6.475870e-01  0.477990  ...  1.000000  1.000000  1.000000\n",
              "Age         891.0  2.562796e-16  1.000562  ...  0.000000  0.407926  3.870872\n",
              "SibSp       891.0  3.456519e-16  1.000562  ... -0.474545  0.432793  6.784163\n",
              "Parch       891.0  6.716164e-17  1.000562  ... -0.473674 -0.473674  6.974147\n",
              "Fare        891.0 -4.373606e-17  1.000562  ... -0.357391 -0.024246  9.667167\n",
              "Embarked_C  891.0  1.885522e-01  0.391372  ...  0.000000  0.000000  1.000000\n",
              "Embarked_Q  891.0  8.641975e-02  0.281141  ...  0.000000  0.000000  1.000000\n",
              "Embarked_S  891.0  7.250281e-01  0.446751  ...  1.000000  1.000000  1.000000\n",
              "Pclass_1    891.0  2.424242e-01  0.428790  ...  0.000000  0.000000  1.000000\n",
              "Pclass_2    891.0  2.065095e-01  0.405028  ...  0.000000  0.000000  1.000000\n",
              "Pclass_3    891.0  5.510662e-01  0.497665  ...  1.000000  1.000000  1.000000\n",
              "\n",
              "[11 rows x 8 columns]"
            ]
          },
          "metadata": {
            "tags": []
          }
        }
      ]
    },
    {
      "cell_type": "markdown",
      "metadata": {
        "id": "NcM-gCCkZUi1",
        "colab_type": "text"
      },
      "source": [
        "**PREDICTION**"
      ]
    },
    {
      "cell_type": "code",
      "metadata": {
        "id": "c8FS5moIZX76",
        "colab_type": "code",
        "colab": {
          "base_uri": "https://localhost:8080/",
          "height": 402
        },
        "outputId": "0b619aea-4cb1-43a6-cbbb-87c53993ec25"
      },
      "source": [
        "# calculate predictions\n",
        "submission['Survived']=model.predict(test)\n",
        "#la funzione round prende l'intero superiore, perchè la rete neurale restituisce la probabilità di appartenenza a quella classe\n",
        "submission['Survived'] = submission['Survived'].apply(lambda x: round(x,0)).astype('int')\n",
        "solution = submission[['PassengerId', 'Survived']]\n",
        "display(solution)\n"
      ],
      "execution_count": 40,
      "outputs": [
        {
          "output_type": "display_data",
          "data": {
            "text/html": [
              "<div>\n",
              "<style scoped>\n",
              "    .dataframe tbody tr th:only-of-type {\n",
              "        vertical-align: middle;\n",
              "    }\n",
              "\n",
              "    .dataframe tbody tr th {\n",
              "        vertical-align: top;\n",
              "    }\n",
              "\n",
              "    .dataframe thead th {\n",
              "        text-align: right;\n",
              "    }\n",
              "</style>\n",
              "<table border=\"1\" class=\"dataframe\">\n",
              "  <thead>\n",
              "    <tr style=\"text-align: right;\">\n",
              "      <th></th>\n",
              "      <th>PassengerId</th>\n",
              "      <th>Survived</th>\n",
              "    </tr>\n",
              "  </thead>\n",
              "  <tbody>\n",
              "    <tr>\n",
              "      <th>0</th>\n",
              "      <td>892</td>\n",
              "      <td>0</td>\n",
              "    </tr>\n",
              "    <tr>\n",
              "      <th>1</th>\n",
              "      <td>893</td>\n",
              "      <td>0</td>\n",
              "    </tr>\n",
              "    <tr>\n",
              "      <th>2</th>\n",
              "      <td>894</td>\n",
              "      <td>0</td>\n",
              "    </tr>\n",
              "    <tr>\n",
              "      <th>3</th>\n",
              "      <td>895</td>\n",
              "      <td>0</td>\n",
              "    </tr>\n",
              "    <tr>\n",
              "      <th>4</th>\n",
              "      <td>896</td>\n",
              "      <td>0</td>\n",
              "    </tr>\n",
              "    <tr>\n",
              "      <th>...</th>\n",
              "      <td>...</td>\n",
              "      <td>...</td>\n",
              "    </tr>\n",
              "    <tr>\n",
              "      <th>413</th>\n",
              "      <td>1305</td>\n",
              "      <td>0</td>\n",
              "    </tr>\n",
              "    <tr>\n",
              "      <th>414</th>\n",
              "      <td>1306</td>\n",
              "      <td>1</td>\n",
              "    </tr>\n",
              "    <tr>\n",
              "      <th>415</th>\n",
              "      <td>1307</td>\n",
              "      <td>0</td>\n",
              "    </tr>\n",
              "    <tr>\n",
              "      <th>416</th>\n",
              "      <td>1308</td>\n",
              "      <td>0</td>\n",
              "    </tr>\n",
              "    <tr>\n",
              "      <th>417</th>\n",
              "      <td>1309</td>\n",
              "      <td>0</td>\n",
              "    </tr>\n",
              "  </tbody>\n",
              "</table>\n",
              "<p>418 rows × 2 columns</p>\n",
              "</div>"
            ],
            "text/plain": [
              "     PassengerId  Survived\n",
              "0            892         0\n",
              "1            893         0\n",
              "2            894         0\n",
              "3            895         0\n",
              "4            896         0\n",
              "..           ...       ...\n",
              "413         1305         0\n",
              "414         1306         1\n",
              "415         1307         0\n",
              "416         1308         0\n",
              "417         1309         0\n",
              "\n",
              "[418 rows x 2 columns]"
            ]
          },
          "metadata": {
            "tags": []
          }
        }
      ]
    },
    {
      "cell_type": "markdown",
      "metadata": {
        "id": "O0lqsO8PZltp",
        "colab_type": "text"
      },
      "source": [
        "**WRITE ON FILE**"
      ]
    },
    {
      "cell_type": "code",
      "metadata": {
        "id": "cXkZAsyfZoWJ",
        "colab_type": "code",
        "colab": {}
      },
      "source": [
        "solution.to_csv(\"Neural_Network_Solution.csv\", index=False)"
      ],
      "execution_count": 0,
      "outputs": []
    }
  ]
}